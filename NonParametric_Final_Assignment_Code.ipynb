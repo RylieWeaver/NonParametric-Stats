{
  "nbformat": 4,
  "nbformat_minor": 0,
  "metadata": {
    "colab": {
      "provenance": [],
      "authorship_tag": "ABX9TyN6KuWfAUI4vSkuPP1Hdte9",
      "include_colab_link": true
    },
    "kernelspec": {
      "name": "python3",
      "display_name": "Python 3"
    },
    "language_info": {
      "name": "python"
    }
  },
  "cells": [
    {
      "cell_type": "markdown",
      "metadata": {
        "id": "view-in-github",
        "colab_type": "text"
      },
      "source": [
        "<a href=\"https://colab.research.google.com/github/RylieWeaver/NonParametric-Stats/blob/main/NonParametric_Final_Assignment_Code.ipynb\" target=\"_parent\"><img src=\"https://colab.research.google.com/assets/colab-badge.svg\" alt=\"Open In Colab\"/></a>"
      ]
    },
    {
      "cell_type": "markdown",
      "source": [
        "# Nonparametric Final"
      ],
      "metadata": {
        "id": "u6kOFRykBbmW"
      }
    },
    {
      "cell_type": "markdown",
      "source": [
        "## 1. Setup"
      ],
      "metadata": {
        "id": "N24DFf0VHM0j"
      }
    },
    {
      "cell_type": "markdown",
      "metadata": {
        "id": "hSCNL3pcnBVu"
      },
      "source": [
        "### Load Data"
      ]
    },
    {
      "cell_type": "code",
      "execution_count": null,
      "metadata": {
        "colab": {
          "base_uri": "https://localhost:8080/"
        },
        "id": "CWiUHtMlnDor",
        "outputId": "aaeef241-a5cd-4e4c-cbd5-c218c4e8fa8d"
      },
      "outputs": [
        {
          "output_type": "stream",
          "name": "stdout",
          "text": [
            "Mounted at /content/drive\n"
          ]
        }
      ],
      "source": [
        "# Setup access to my Google Drive\n",
        "from google.colab import drive\n",
        "drive.mount('/content/drive',  force_remount=True)"
      ]
    },
    {
      "cell_type": "code",
      "execution_count": null,
      "metadata": {
        "colab": {
          "base_uri": "https://localhost:8080/"
        },
        "id": "tvyDtxh2Pe2t",
        "outputId": "3464cba8-aeb8-4689-b6dd-daeb08a5cceb"
      },
      "outputs": [
        {
          "output_type": "stream",
          "name": "stdout",
          "text": [
            "/content/drive/MyDrive/CGU/Non-Parametric Stats/Data\n"
          ]
        }
      ],
      "source": [
        "# Travel to Non-Parmetric stats directory\n",
        "%cd \"/content/drive/MyDrive/CGU/Non-Parametric Stats/Data\""
      ]
    },
    {
      "cell_type": "code",
      "execution_count": null,
      "metadata": {
        "colab": {
          "base_uri": "https://localhost:8080/"
        },
        "id": "WtA93onFncDK",
        "outputId": "6dc63641-1b86-49b4-cc7c-4dd761254b8f"
      },
      "outputs": [
        {
          "output_type": "stream",
          "name": "stdout",
          "text": [
            "hormone.txt  law_data.txt\n"
          ]
        }
      ],
      "source": [
        "%ls"
      ]
    },
    {
      "cell_type": "code",
      "source": [
        "# General imports\n",
        "import pandas as pd\n",
        "import numpy as np"
      ],
      "metadata": {
        "id": "XRBy7lP3640o"
      },
      "execution_count": null,
      "outputs": []
    },
    {
      "cell_type": "code",
      "source": [
        "# Read file and name columns\n",
        "data = pd.read_csv('hormone.txt', header=None)  # Even though it's a .txt, the data is separated by commas\n",
        "data.columns = ['Lot', 'Hours_Worn', 'Hormone_Level']  # Make column names\n",
        "\n",
        "# Make 1-hot encoding of lots\n",
        "lot_dummies = pd.get_dummies(data['Lot'], prefix='Lot')\n",
        "data = pd.concat([lot_dummies, data[['Hours_Worn', 'Hormone_Level']]], axis=1)\n",
        "data[lot_dummies.columns] = lot_dummies.astype(int)  # Make true/falses as 1s / 0s\n",
        "\n",
        "# Show\n",
        "print(data.head(27))"
      ],
      "metadata": {
        "colab": {
          "base_uri": "https://localhost:8080/"
        },
        "id": "_IriIKPGHStF",
        "outputId": "9fa8b2e0-7197-4133-eab8-2b26ab8b2459"
      },
      "execution_count": null,
      "outputs": [
        {
          "output_type": "stream",
          "name": "stdout",
          "text": [
            "    Lot_1  Lot_2  Lot_3  Hours_Worn  Hormone_Level\n",
            "0       1      0      0          99           25.8\n",
            "1       1      0      0         152           20.5\n",
            "2       1      0      0         293           14.3\n",
            "3       1      0      0         155           23.2\n",
            "4       1      0      0         196           20.6\n",
            "5       1      0      0          53           31.1\n",
            "6       1      0      0         184           20.9\n",
            "7       1      0      0         171           20.9\n",
            "8       1      0      0          52           30.4\n",
            "9       0      1      0         376           16.3\n",
            "10      0      1      0         385           11.6\n",
            "11      0      1      0         402           11.8\n",
            "12      0      1      0          29           32.5\n",
            "13      0      1      0          76           32.0\n",
            "14      0      1      0         296           18.0\n",
            "15      0      1      0         151           24.1\n",
            "16      0      1      0         177           26.5\n",
            "17      0      1      0         209           25.8\n",
            "18      0      0      1         119           28.8\n",
            "19      0      0      1         188           22.0\n",
            "20      0      0      1         115           29.7\n",
            "21      0      0      1          88           28.9\n",
            "22      0      0      1          58           32.8\n",
            "23      0      0      1          49           32.5\n",
            "24      0      0      1         150           25.4\n",
            "25      0      0      1         107           31.7\n",
            "26      0      0      1         125           28.5\n"
          ]
        }
      ]
    },
    {
      "cell_type": "markdown",
      "source": [
        "## 2. Plot"
      ],
      "metadata": {
        "id": "KJ_W84sddOla"
      }
    },
    {
      "cell_type": "code",
      "source": [
        "import matplotlib.pyplot as plt"
      ],
      "metadata": {
        "id": "SDJw4j7uGP7u"
      },
      "execution_count": null,
      "outputs": []
    },
    {
      "cell_type": "code",
      "source": [
        "# Data and Target\n",
        "X = data[['Lot_1', 'Lot_2', 'Lot_3', 'Hours_Worn']]  # No add_constant here because the lots are the intercepts\n",
        "y = data['Hormone_Level']\n",
        "\n",
        "# Fit the OLS model (no added intercept)\n",
        "model = sm.OLS(y, X).fit()\n",
        "\n",
        "# Predictions for plotting\n",
        "data['Predicted'] = model.predict(X)\n",
        "\n",
        "# Plot\n",
        "plt.figure(figsize=(10, 6))\n",
        "colors = ['blue', 'green', 'red']\n",
        "for i, lot in enumerate(['Lot_1', 'Lot_2', 'Lot_3'], start=1):\n",
        "    subset = data[data[lot] == 1]\n",
        "    plt.scatter(subset['Hours_Worn'], subset['Hormone_Level'], color=colors[i-1], alpha=0.6, label=f'{lot} Data')\n",
        "    plt.plot(subset['Hours_Worn'], subset['Predicted'], color=colors[i-1], label=f'{lot} Regression Line')\n",
        "plt.title('Hormone Levels vs. Hours Worn by Lot')\n",
        "plt.xlabel('Hours Worn')\n",
        "plt.ylabel('Hormone Level')\n",
        "plt.legend()\n",
        "plt.grid(True)\n",
        "plt.show()\n",
        "\n",
        "# Print the model summary\n",
        "print(model.summary())"
      ],
      "metadata": {
        "colab": {
          "base_uri": "https://localhost:8080/",
          "height": 1000
        },
        "id": "dDnLWxZ221ID",
        "outputId": "9a7e442c-4fd8-4500-a35e-0612b1d8530a"
      },
      "execution_count": null,
      "outputs": [
        {
          "output_type": "display_data",
          "data": {
            "text/plain": [
              "<Figure size 1000x600 with 1 Axes>"
            ],
            "image/png": "[encoded data removed]"
          },
          "metadata": {}
        },
        {
          "output_type": "stream",
          "name": "stdout",
          "text": [
            "                            OLS Regression Results                            \n",
            "==============================================================================\n",
            "Dep. Variable:          Hormone_Level   R-squared:                       0.945\n",
            "Model:                            OLS   Adj. R-squared:                  0.938\n",
            "Method:                 Least Squares   F-statistic:                     131.8\n",
            "Date:                Fri, 10 May 2024   Prob (F-statistic):           1.25e-14\n",
            "Time:                        06:28:56   Log-Likelihood:                -48.926\n",
            "No. Observations:                  27   AIC:                             105.9\n",
            "Df Residuals:                      23   BIC:                             111.0\n",
            "Df Model:                           3                                         \n",
            "Covariance Type:            nonrobust                                         \n",
            "==============================================================================\n",
            "                 coef    std err          t      P>|t|      [0.025      0.975]\n",
            "------------------------------------------------------------------------------\n",
            "Lot_1         32.1316      0.748     42.941      0.000      30.584      33.680\n",
            "Lot_2         36.1051      0.972     37.159      0.000      34.095      38.115\n",
            "Lot_3         35.5973      0.660     53.970      0.000      34.233      36.962\n",
            "Hours_Worn    -0.0601      0.003    -17.310      0.000      -0.067      -0.053\n",
            "==============================================================================\n",
            "Omnibus:                        0.118   Durbin-Watson:                   2.209\n",
            "Prob(Omnibus):                  0.943   Jarque-Bera (JB):                0.340\n",
            "Skew:                          -0.014   Prob(JB):                        0.844\n",
            "Kurtosis:                       2.451   Cond. No.                         735.\n",
            "==============================================================================\n",
            "\n",
            "Notes:\n",
            "[1] Standard Errors assume that the covariance matrix of the errors is correctly specified.\n"
          ]
        }
      ]
    },
    {
      "cell_type": "code",
      "source": [
        "# Check beta with classic computation\n",
        "beta = np.linalg.inv(X.T @ X) @ X.T @ y\n",
        "print(beta)\n",
        "\n",
        "# Same!"
      ],
      "metadata": {
        "colab": {
          "base_uri": "https://localhost:8080/"
        },
        "id": "XClQqNlo1bEr",
        "outputId": "468f644f-ab10-48dd-a9f1-ef89ae811435"
      },
      "execution_count": null,
      "outputs": [
        {
          "output_type": "stream",
          "name": "stdout",
          "text": [
            "0    32.131595\n",
            "1    36.105095\n",
            "2    35.597324\n",
            "3    -0.060136\n",
            "dtype: float64\n"
          ]
        }
      ]
    },
    {
      "cell_type": "markdown",
      "source": [
        "## 3. Confidence Bounds"
      ],
      "metadata": {
        "id": "7jyqrdILHoNR"
      }
    },
    {
      "cell_type": "code",
      "source": [
        "from scipy.stats import t as t_distn\n",
        "import statsmodels as sm"
      ],
      "metadata": {
        "id": "8T7u6H3uMbgD"
      },
      "execution_count": null,
      "outputs": []
    },
    {
      "cell_type": "markdown",
      "source": [
        "### Normal Theory"
      ],
      "metadata": {
        "id": "_nhAop7Y1v-Y"
      }
    },
    {
      "cell_type": "code",
      "source": [
        "\"\"\"Estimate Variance unbiasedly\"\"\"\n",
        "\n",
        "# Get n and p\n",
        "n = X.shape[0]\n",
        "p = X.shape[1]\n",
        "\n",
        "# Compute middle matrix\n",
        "XtX = np.dot(X.T, X)\n",
        "XtX_inv = np.linalg.inv(XtX)\n",
        "H = np.dot(np.dot(X, XtX_inv), X.T)\n",
        "I = np.eye(n)  # Identity matrix\n",
        "M = I - H\n",
        "\n",
        "# Compute residual sum of squares\n",
        "result = np.dot(np.dot(y.T, M), y)\n",
        "\n",
        "# Unbiased estimate of variance\n",
        "sigma_squared = result/(n-p)\n",
        "print(f\"n={n} | p={p}\")\n",
        "print(\"Unbiased Estimate of Variance (sigma^2):\", sigma_squared)\n",
        "\n",
        "# These are the same up to floating point errors"
      ],
      "metadata": {
        "colab": {
          "base_uri": "https://localhost:8080/"
        },
        "id": "LmTqnJ-w7jii",
        "outputId": "c4a8b8ef-fe16-4a9d-ea85-c0258a4d2319"
      },
      "execution_count": null,
      "outputs": [
        {
          "output_type": "stream",
          "name": "stdout",
          "text": [
            "n=27 | p=4\n",
            "Unbiased Estimate of Variance (sigma^2): 2.5769953129655416\n"
          ]
        }
      ]
    },
    {
      "cell_type": "code",
      "source": [
        "# Get n and p\n",
        "n = X.shape[0]\n",
        "p = X.shape[1]\n",
        "dof = n-p\n",
        "\n",
        "# Compute standard error\n",
        "XtX = np.dot(X.T, X)\n",
        "XtX_inv = np.linalg.inv(XtX)\n",
        "t = np.array([1, -1, 0, 0])\n",
        "std = np.sqrt(sigma_squared * np.dot(np.dot(t.T, XtX_inv), t))\n",
        "print(\"Standard Error:\", std)\n",
        "\n",
        "# Compute estimate\n",
        "estimate = np.dot(t, beta)\n",
        "print(\"Estimate:\", estimate)\n",
        "\n",
        "# Compute crit values\n",
        "alpha = 0.025\n",
        "lower_bound = estimate - t_distn.ppf(1 - alpha, df=dof) * std\n",
        "upper_bound = estimate - t_distn.ppf(alpha, df=dof) * std\n",
        "print(\"Confidence Interval:\", (lower_bound, upper_bound))"
      ],
      "metadata": {
        "colab": {
          "base_uri": "https://localhost:8080/"
        },
        "id": "ieNFStbB9PqZ",
        "outputId": "1869b385-263e-41bf-cb7b-89cfa29edd85"
      },
      "execution_count": null,
      "outputs": [
        {
          "output_type": "stream",
          "name": "stdout",
          "text": [
            "Standard Error: 0.8096861854115562\n",
            "Estimate: -3.9734996690216136\n",
            "Confidence Interval: (-5.648463158524391, -2.298536179518835)\n"
          ]
        }
      ]
    },
    {
      "cell_type": "markdown",
      "source": [
        "Let's make this into a function and do all contrasts..."
      ],
      "metadata": {
        "id": "EtCdWJrXB7QK"
      }
    },
    {
      "cell_type": "code",
      "source": [
        "def normal_contrast_confidence_bounds(contrasts, X, y, alpha=0.025):\n",
        "    # Initialize returned confidence intervals\n",
        "    confidence_intervals = []\n",
        "\n",
        "    # Number of observations and parameters (to get degrees of freedom)\n",
        "    n, p = X.shape\n",
        "    dof = n - p\n",
        "    # print(f\"n={n} | p={p}\")\n",
        "\n",
        "    # Compute beta\n",
        "    XtX = np.dot(X.T, X)\n",
        "    XtX_inv = np.linalg.inv(XtX)\n",
        "    beta = np.dot(XtX_inv, np.dot(X.T, y))\n",
        "    # print(\"Beta:\", beta)\n",
        "\n",
        "    # Compute residuals\n",
        "    y_hat = np.dot(X, beta)\n",
        "    residuals = y - y_hat\n",
        "\n",
        "    # Estimate unbiased variance with residuals\n",
        "    RSS = np.dot(residuals.T, residuals)\n",
        "    sigma_squared = RSS / dof\n",
        "    # print(\"Unbiased Estimate of Variance (sigma^2):\", sigma_squared)\n",
        "\n",
        "    # Get t-values\n",
        "    t_lo = t_distn.ppf(alpha, df=dof)  # Lower critical t-value\n",
        "    t_up = t_distn.ppf(1 - alpha, df=dof)  # Upper critical t-value\n",
        "\n",
        "    # Iterate over all contrasts\n",
        "    for t in contrasts:\n",
        "        # Make sure it's an array\n",
        "        t = np.array(t)\n",
        "        print(f\"Contrast: {t}\")  # Show\n",
        "\n",
        "        # Compute std error\n",
        "        std = np.sqrt(sigma_squared * np.dot(np.dot(t.T, XtX_inv), t))\n",
        "\n",
        "        # Compute the contrast estimate\n",
        "        estimate = np.dot(t, beta)\n",
        "        print(\"Estimate:\", estimate)\n",
        "\n",
        "        # Compute the confidence interval\n",
        "        lower_bound = estimate - t_up * std\n",
        "        upper_bound = estimate - t_lo * std\n",
        "\n",
        "        print(\"Confidence Interval:\", (lower_bound, upper_bound))\n",
        "        print()\n",
        "\n",
        "        # Append the confidence interval to the list\n",
        "        confidence_intervals.append((lower_bound, upper_bound))\n",
        "\n",
        "    return confidence_intervals"
      ],
      "metadata": {
        "id": "-nI-k6GjB_cI"
      },
      "execution_count": null,
      "outputs": []
    },
    {
      "cell_type": "code",
      "source": [
        "# Test the function\n",
        "contrasts = [[1, -1, 0, 0]]  # Lot_2 - Lot_1\n",
        "confidence_intervals = normal_contrast_confidence_bounds(contrasts, X, y)\n",
        "print(\"Confidence Intervals:\")\n",
        "print(confidence_intervals[0])"
      ],
      "metadata": {
        "colab": {
          "base_uri": "https://localhost:8080/"
        },
        "id": "nvtrtIYSH4jl",
        "outputId": "91f78d46-beb2-4c52-a860-52670977c167"
      },
      "execution_count": null,
      "outputs": [
        {
          "output_type": "stream",
          "name": "stdout",
          "text": [
            "Contrast: [ 1 -1  0  0]\n",
            "Estimate: -3.9734996690216278\n",
            "Confidence Interval: (-5.648463158524435, -2.2985361795188206)\n",
            "\n",
            "Confidence Intervals:\n",
            "(-5.648463158524435, -2.2985361795188206)\n"
          ]
        }
      ]
    },
    {
      "cell_type": "code",
      "source": [
        "# Make intervals\n",
        "contrasts = [[1, -1, 0, 0], [1, 0, -1, 0], [0, 1, -1, 0]]\n",
        "normal_confidence_intervals = normal_contrast_confidence_bounds(contrasts, X, y)\n",
        "\n",
        "# Show\n",
        "print(\"Normal Confidence Intervals:\")\n",
        "for confidence_interval in normal_confidence_intervals:\n",
        "    print(confidence_interval)"
      ],
      "metadata": {
        "colab": {
          "base_uri": "https://localhost:8080/"
        },
        "id": "MTndSBNrLD5o",
        "outputId": "cbf467a4-1bbe-43c3-ee18-9ebcb95af388"
      },
      "execution_count": null,
      "outputs": [
        {
          "output_type": "stream",
          "name": "stdout",
          "text": [
            "Contrast: [ 1 -1  0  0]\n",
            "Estimate: -3.9734996690216278\n",
            "Confidence Interval: (-5.648463158524435, -2.2985361795188206)\n",
            "\n",
            "Contrast: [ 1  0 -1  0]\n",
            "Estimate: -3.4657293804668328\n",
            "Confidence Interval: (-5.056781912913565, -1.8746768480201002)\n",
            "\n",
            "Contrast: [ 0  1 -1  0]\n",
            "Estimate: 0.507770288554795\n",
            "Confidence Interval: (-1.288061860483236, 2.3036024375928266)\n",
            "\n",
            "Normal Confidence Intervals:\n",
            "(-5.648463158524435, -2.2985361795188206)\n",
            "(-5.056781912913565, -1.8746768480201002)\n",
            "(-1.288061860483236, 2.3036024375928266)\n"
          ]
        }
      ]
    },
    {
      "cell_type": "markdown",
      "source": [
        "### Bootstrap"
      ],
      "metadata": {
        "id": "GnKzTZsb1t4w"
      }
    },
    {
      "cell_type": "code",
      "source": [
        "# Testing\n",
        "residuals = y - np.dot(X, beta)\n",
        "residuals_centered = residuals - np.mean(residuals)\n",
        "# print(residuals)\n",
        "# print(residuals_centered)\n",
        "print(np.mean(residuals))\n",
        "print(np.mean(residuals_centered))"
      ],
      "metadata": {
        "colab": {
          "base_uri": "https://localhost:8080/"
        },
        "id": "8IbQ-sGJSZHt",
        "outputId": "e42b7502-8dc3-42b7-8380-170763848b0b"
      },
      "execution_count": null,
      "outputs": [
        {
          "output_type": "stream",
          "name": "stdout",
          "text": [
            "-5.131697536045168e-15\n",
            "5.756711979537848e-17\n"
          ]
        }
      ]
    },
    {
      "cell_type": "code",
      "source": [
        "# Easier to make a function to bootstrap one at a time and call multiple times\n",
        "\n",
        "def bootstrap_contrast_confidence_bound(t, X, y, B=10000, alpha=0.025):\n",
        "    n, p = X.shape\n",
        "    dof = n - p\n",
        "\n",
        "    # Compute beta and residuals\n",
        "    XtX = np.dot(X.T, X)\n",
        "    XtX_inv = np.linalg.inv(XtX)\n",
        "    beta = np.dot(XtX_inv, np.dot(X.T, y))\n",
        "    residuals = y - np.dot(X, beta)\n",
        "    residuals_centered = residuals - np.mean(residuals)  # Center\n",
        "\n",
        "    # Ensure t is a numpy array\n",
        "    t = np.array(t)\n",
        "\n",
        "    # Initialize array to store bootstrap pivot values\n",
        "    P = np.zeros(B)\n",
        "\n",
        "    for i in range(B):\n",
        "        # Bootstrap residuals\n",
        "        epsilon_star = np.random.choice(residuals_centered, size=n, replace=True)\n",
        "\n",
        "        # Compute bootstrap Y\n",
        "        Y_star = np.dot(X, beta) + epsilon_star\n",
        "\n",
        "        # Compute bootstrap beta\n",
        "        beta_star = np.dot(XtX_inv, np.dot(X.T, Y_star))\n",
        "\n",
        "        # Compute residuals and variance for Y_star\n",
        "        residuals_star = Y_star - np.dot(X, beta_star)\n",
        "        RSS_star = np.dot(residuals_star.T, residuals_star)\n",
        "        sigma_squared_star = RSS_star / dof\n",
        "\n",
        "        # Compute the pivot\n",
        "        std = np.sqrt(sigma_squared_star * np.dot(t.T, np.dot(XtX_inv, t)))\n",
        "        pivot = (np.dot(t, beta_star) - np.dot(t, beta)) / std\n",
        "\n",
        "        # Store pivot value\n",
        "        P[i] = pivot\n",
        "\n",
        "    # Calculate bootstrap confidence intervals\n",
        "    P_sorted = np.sort(P)\n",
        "    lower_bound = np.percentile(P_sorted, alpha*100)\n",
        "    upper_bound = np.percentile(P_sorted, (1-alpha)*100)\n",
        "\n",
        "    # Calculate the estimate using the original beta\n",
        "    estimate = np.dot(t, beta)\n",
        "    confidence_interval = (estimate + lower_bound * std, estimate + upper_bound * std)\n",
        "\n",
        "    # Show\n",
        "    print(f\"Contrast: {t}\")\n",
        "    print(\"Estimate:\", estimate)\n",
        "    print(\"Bootstrap Confidence Interval:\", confidence_interval)\n",
        "    print()\n",
        "\n",
        "    return confidence_interval"
      ],
      "metadata": {
        "id": "X3wZ0p3QJegz"
      },
      "execution_count": null,
      "outputs": []
    },
    {
      "cell_type": "code",
      "source": [
        "# Make intervals\n",
        "bootstrap_confidence_intervals = []\n",
        "contrasts = [[1, -1, 0, 0], [1, 0, -1, 0], [0, 1, -1, 0]]\n",
        "for contrast in contrasts:\n",
        "    bootstrap_confidence_interval = bootstrap_contrast_confidence_bound(contrast, X, y, B=100000)\n",
        "    bootstrap_confidence_intervals.append(bootstrap_confidence_interval)\n",
        "\n",
        "# Show\n",
        "print(\"Bootstrap Confidence Intervals:\")\n",
        "for confidence_interval in bootstrap_confidence_intervals:\n",
        "    print(confidence_interval)"
      ],
      "metadata": {
        "colab": {
          "base_uri": "https://localhost:8080/"
        },
        "id": "_mmbfZ9SQyMR",
        "outputId": "38492244-61df-404f-dc6c-78f968612fdd"
      },
      "execution_count": null,
      "outputs": [
        {
          "output_type": "stream",
          "name": "stdout",
          "text": [
            "Contrast: [ 1 -1  0  0]\n",
            "Estimate: -3.9734996690216278\n",
            "Bootstrap Confidence Interval: (-5.52593873991632, -2.42169241503296)\n",
            "\n",
            "Contrast: [ 1  0 -1  0]\n",
            "Estimate: -3.4657293804668328\n",
            "Bootstrap Confidence Interval: (-5.006935577320595, -1.9523798629655786)\n",
            "\n",
            "Contrast: [ 0  1 -1  0]\n",
            "Estimate: 0.507770288554795\n",
            "Bootstrap Confidence Interval: (-1.0894621223568635, 2.100447879505954)\n",
            "\n",
            "Bootstrap Confidence Intervals:\n",
            "(-5.52593873991632, -2.42169241503296)\n",
            "(-5.006935577320595, -1.9523798629655786)\n",
            "(-1.0894621223568635, 2.100447879505954)\n"
          ]
        }
      ]
    },
    {
      "cell_type": "markdown",
      "source": [
        "## Analysis"
      ],
      "metadata": {
        "id": "_ZmzVbzKeRRk"
      }
    },
    {
      "cell_type": "markdown",
      "source": [
        "To re-iterate, we have:\n",
        "\n",
        "**Normal Confidence Intervals:**\n",
        "\n",
        "Contrast: [ 1 -1  0  0]\n",
        "Estimate: -3.9734996690216278\n",
        "Confidence Interval: (-5.648463158524435, -2.2985361795188206)\n",
        "\n",
        "Contrast: [ 1  0 -1  0]\n",
        "Estimate: -3.4657293804668328\n",
        "Confidence Interval: (-5.056781912913565, -1.8746768480201002)\n",
        "\n",
        "Contrast: [ 0  1 -1  0]\n",
        "Estimate: 0.507770288554795\n",
        "Confidence Interval: (-1.288061860483236, 2.3036024375928266)\n",
        "\n",
        "\n",
        "**Bootstrap Confidence Intervals:**\n",
        "\n",
        "Contrast: [ 1 -1  0  0]\n",
        "Estimate: -3.9734996690216278\n",
        "Bootstrap Confidence Interval: (-5.52593873991632, -2.42169241503296)\n",
        "\n",
        "Contrast: [ 1  0 -1  0]\n",
        "Estimate: -3.4657293804668328\n",
        "Bootstrap Confidence Interval: (-5.006935577320595, -1.9523798629655786)\n",
        "\n",
        "Contrast: [ 0  1 -1  0]\n",
        "Estimate: 0.507770288554795\n",
        "Bootstrap Confidence Interval: (-1.0894621223568635, 2.100447879505954)\n",
        "\n",
        "---\n",
        "\n",
        "We see that the bootstrap confidence intervals are similar to normal-theory confidence intervals, with there being slight differences from around 0.05 to 0.20 on each side.\n",
        "\n",
        "In addition, we see that the first two confidence intervals do not contain 0 in both interval types, indicating that the intercepts for Lot 2 and Lot 3 are greater than the intercept for Lot 1. On the other hand, the difference between intercepts of Lot 2 and Lot 3 do contain 0 in both interval types, meaning that we can not significantly conclude a difference in intercept between Lot 2 and Lot 3.\n",
        "\n",
        "Overall, our conclusion would be the Β1 < B2, B3."
      ],
      "metadata": {
        "id": "L2mFr0vtfBWK"
      }
    }
  ]
}